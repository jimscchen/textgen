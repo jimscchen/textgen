{
 "cells": [
  {
   "cell_type": "code",
   "execution_count": 2,
   "metadata": {},
   "outputs": [],
   "source": [
    "import pandas as pd\n",
    "import numpy as np\n",
    "\n",
    "import matplotlib.pyplot as plt\n",
    "import seaborn as sns\n",
    "%matplotlib inline\n",
    "plt.style.use('ggplot')\n",
    "\n",
    "from collections import Counter\n",
    "\n",
    "import tensorflow as tf\n",
    "import keras\n",
    "\n",
    "import re"
   ]
  },
  {
   "cell_type": "markdown",
   "metadata": {},
   "source": [
    "Load raw data and take a quick look"
   ]
  },
  {
   "cell_type": "code",
   "execution_count": 3,
   "metadata": {},
   "outputs": [
    {
     "data": {
      "text/html": [
       "<div>\n",
       "<style scoped>\n",
       "    .dataframe tbody tr th:only-of-type {\n",
       "        vertical-align: middle;\n",
       "    }\n",
       "\n",
       "    .dataframe tbody tr th {\n",
       "        vertical-align: top;\n",
       "    }\n",
       "\n",
       "    .dataframe thead th {\n",
       "        text-align: right;\n",
       "    }\n",
       "</style>\n",
       "<table border=\"1\" class=\"dataframe\">\n",
       "  <thead>\n",
       "    <tr style=\"text-align: right;\">\n",
       "      <th></th>\n",
       "      <th>text</th>\n",
       "    </tr>\n",
       "  </thead>\n",
       "  <tbody>\n",
       "    <tr>\n",
       "      <th>0</th>\n",
       "      <td>1、立志欲堅不欲銳，成功在久不在速。——張孝祥</td>\n",
       "    </tr>\n",
       "    <tr>\n",
       "      <th>1</th>\n",
       "      <td>2、天空黑暗到一定程度，星辰就會熠熠生輝。</td>\n",
       "    </tr>\n",
       "    <tr>\n",
       "      <th>2</th>\n",
       "      <td>3、人生最大的錯誤是不斷擔心會犯錯。</td>\n",
       "    </tr>\n",
       "    <tr>\n",
       "      <th>3</th>\n",
       "      <td>4、人若軟弱就是自己最大的敵人；人若勇敢就是自己最好的朋友。</td>\n",
       "    </tr>\n",
       "    <tr>\n",
       "      <th>4</th>\n",
       "      <td>5、如果你想得到，你就會得到，你所需要付出的只是行動。</td>\n",
       "    </tr>\n",
       "  </tbody>\n",
       "</table>\n",
       "</div>"
      ],
      "text/plain": [
       "                             text\n",
       "0         1、立志欲堅不欲銳，成功在久不在速。——張孝祥\n",
       "1           2、天空黑暗到一定程度，星辰就會熠熠生輝。\n",
       "2              3、人生最大的錯誤是不斷擔心會犯錯。\n",
       "3  4、人若軟弱就是自己最大的敵人；人若勇敢就是自己最好的朋友。\n",
       "4     5、如果你想得到，你就會得到，你所需要付出的只是行動。"
      ]
     },
     "execution_count": 3,
     "metadata": {},
     "output_type": "execute_result"
    }
   ],
   "source": [
    "df = pd.read_csv('data.txt', names=['text'])\n",
    "df.head()"
   ]
  },
  {
   "cell_type": "code",
   "execution_count": 6,
   "metadata": {},
   "outputs": [
    {
     "data": {
      "text/plain": [
       "0.0"
      ]
     },
     "execution_count": 6,
     "metadata": {},
     "output_type": "execute_result"
    }
   ],
   "source": [
    "np.mean(df['text'].apply(lambda x: ',' in x))"
   ]
  },
  {
   "cell_type": "code",
   "execution_count": 9,
   "metadata": {},
   "outputs": [
    {
     "name": "stderr",
     "output_type": "stream",
     "text": [
      "C:\\Users\\etbear\\Anaconda3\\lib\\site-packages\\matplotlib\\axes\\_axes.py:6462: UserWarning: The 'normed' kwarg is deprecated, and has been replaced by the 'density' kwarg.\n",
      "  warnings.warn(\"The 'normed' kwarg is deprecated, and has been \"\n"
     ]
    },
    {
     "data": {
      "text/plain": [
       "<matplotlib.axes._subplots.AxesSubplot at 0x1e8dfb0e0f0>"
      ]
     },
     "execution_count": 9,
     "metadata": {},
     "output_type": "execute_result"
    },
    {
     "data": {
      "image/png": "[encoded data removed]",
      "text/plain": [
       "<Figure size 432x288 with 1 Axes>"
      ]
     },
     "metadata": {},
     "output_type": "display_data"
    }
   ],
   "source": [
    "sns.distplot(df['text'].apply(lambda x:len(x)))"
   ]
  },
  {
   "cell_type": "code",
   "execution_count": 10,
   "metadata": {},
   "outputs": [
    {
     "name": "stderr",
     "output_type": "stream",
     "text": [
      "C:\\Users\\etbear\\Anaconda3\\lib\\site-packages\\matplotlib\\axes\\_axes.py:6462: UserWarning: The 'normed' kwarg is deprecated, and has been replaced by the 'density' kwarg.\n",
      "  warnings.warn(\"The 'normed' kwarg is deprecated, and has been \"\n"
     ]
    },
    {
     "data": {
      "text/plain": [
       "<matplotlib.axes._subplots.AxesSubplot at 0x1e8e00c6f98>"
      ]
     },
     "execution_count": 10,
     "metadata": {},
     "output_type": "execute_result"
    },
    {
     "data": {
      "image/png": "[encoded data removed]",
      "text/plain": [
       "<Figure size 432x288 with 1 Axes>"
      ]
     },
     "metadata": {},
     "output_type": "display_data"
    }
   ],
   "source": [
    "sns.distplot(df['text'].apply(lambda x:len(x.encode().split(b'\\xe3\\x80\\x81')[0])))"
   ]
  },
  {
   "cell_type": "code",
   "execution_count": 22,
   "metadata": {},
   "outputs": [],
   "source": [
    "t = df['text'][0].encode()"
   ]
  },
  {
   "cell_type": "code",
   "execution_count": null,
   "metadata": {},
   "outputs": [],
   "source": []
  },
  {
   "cell_type": "code",
   "execution_count": 29,
   "metadata": {},
   "outputs": [
    {
     "data": {
      "text/plain": [
       "Counter({2: 542, 3: 5, 5: 1, 4: 1, 1: 14})"
      ]
     },
     "execution_count": 29,
     "metadata": {},
     "output_type": "execute_result"
    }
   ],
   "source": [
    "Counter(df['text'].apply(lambda x:len(x.encode().split(b'\\xe3\\x80\\x81'))))"
   ]
  },
  {
   "cell_type": "code",
   "execution_count": 30,
   "metadata": {},
   "outputs": [
    {
     "data": {
      "text/html": [
       "<div>\n",
       "<style scoped>\n",
       "    .dataframe tbody tr th:only-of-type {\n",
       "        vertical-align: middle;\n",
       "    }\n",
       "\n",
       "    .dataframe tbody tr th {\n",
       "        vertical-align: top;\n",
       "    }\n",
       "\n",
       "    .dataframe thead th {\n",
       "        text-align: right;\n",
       "    }\n",
       "</style>\n",
       "<table border=\"1\" class=\"dataframe\">\n",
       "  <thead>\n",
       "    <tr style=\"text-align: right;\">\n",
       "      <th></th>\n",
       "      <th>text</th>\n",
       "    </tr>\n",
       "  </thead>\n",
       "  <tbody>\n",
       "    <tr>\n",
       "      <th>51</th>\n",
       "      <td>52、障礙與失敗，是通往成功最穩靠的踏脚石，肯研究、利用它們，便能從失敗中培養出成功。</td>\n",
       "    </tr>\n",
       "    <tr>\n",
       "      <th>186</th>\n",
       "      <td>87、灰心是无情的子弹，一旦被它击中了，再健康、强壮的人生，也会受到损伤。</td>\n",
       "    </tr>\n",
       "    <tr>\n",
       "      <th>205</th>\n",
       "      <td>106、这个社会很简单、只是人太复杂。</td>\n",
       "    </tr>\n",
       "    <tr>\n",
       "      <th>270</th>\n",
       "      <td>51、行动是治愈恐惧的良药，而犹豫、拖延将不断滋养恐惧。</td>\n",
       "    </tr>\n",
       "    <tr>\n",
       "      <th>299</th>\n",
       "      <td>80、天不給我路走、我自己找路走、地不让我的路平、我自己踏平！这年头不气盛就不叫年轻人！</td>\n",
       "    </tr>\n",
       "    <tr>\n",
       "      <th>408</th>\n",
       "      <td>96、不要放棄自己，勇敢地接受生命的挑戰。有一天我們可以老死、病死、窮死，但絕不要允許自己失...</td>\n",
       "    </tr>\n",
       "    <tr>\n",
       "      <th>557</th>\n",
       "      <td>109、行动是治愈恐惧的良药，而犹豫、拖延将不断滋养恐惧。</td>\n",
       "    </tr>\n",
       "  </tbody>\n",
       "</table>\n",
       "</div>"
      ],
      "text/plain": [
       "                                                  text\n",
       "51         52、障礙與失敗，是通往成功最穩靠的踏脚石，肯研究、利用它們，便能從失敗中培養出成功。\n",
       "186              87、灰心是无情的子弹，一旦被它击中了，再健康、强壮的人生，也会受到损伤。\n",
       "205                                106、这个社会很简单、只是人太复杂。\n",
       "270                       51、行动是治愈恐惧的良药，而犹豫、拖延将不断滋养恐惧。\n",
       "299       80、天不給我路走、我自己找路走、地不让我的路平、我自己踏平！这年头不气盛就不叫年轻人！\n",
       "408  96、不要放棄自己，勇敢地接受生命的挑戰。有一天我們可以老死、病死、窮死，但絕不要允許自己失...\n",
       "557                      109、行动是治愈恐惧的良药，而犹豫、拖延将不断滋养恐惧。"
      ]
     },
     "execution_count": 30,
     "metadata": {},
     "output_type": "execute_result"
    }
   ],
   "source": [
    "df[df['text'].apply(lambda x:len(x.encode().split(b'\\xe3\\x80\\x81'))) > 2]"
   ]
  },
  {
   "cell_type": "code",
   "execution_count": 7,
   "metadata": {
    "scrolled": true
   },
   "outputs": [
    {
     "data": {
      "text/html": [
       "<div>\n",
       "<style scoped>\n",
       "    .dataframe tbody tr th:only-of-type {\n",
       "        vertical-align: middle;\n",
       "    }\n",
       "\n",
       "    .dataframe tbody tr th {\n",
       "        vertical-align: top;\n",
       "    }\n",
       "\n",
       "    .dataframe thead th {\n",
       "        text-align: right;\n",
       "    }\n",
       "</style>\n",
       "<table border=\"1\" class=\"dataframe\">\n",
       "  <thead>\n",
       "    <tr style=\"text-align: right;\">\n",
       "      <th></th>\n",
       "      <th>text</th>\n",
       "    </tr>\n",
       "  </thead>\n",
       "  <tbody>\n",
       "    <tr>\n",
       "      <th>439</th>\n",
       "      <td>———— 华特・贝基霍</td>\n",
       "    </tr>\n",
       "    <tr>\n",
       "      <th>469</th>\n",
       "      <td>——— 莎士比亚的名言</td>\n",
       "    </tr>\n",
       "    <tr>\n",
       "      <th>529</th>\n",
       "      <td>——— 《青春派》</td>\n",
       "    </tr>\n",
       "    <tr>\n",
       "      <th>531</th>\n",
       "      <td>——— 《心术》</td>\n",
       "    </tr>\n",
       "    <tr>\n",
       "      <th>536</th>\n",
       "      <td>——— 《新恋爱时代》</td>\n",
       "    </tr>\n",
       "    <tr>\n",
       "      <th>546</th>\n",
       "      <td>——— 歌德的名言</td>\n",
       "    </tr>\n",
       "    <tr>\n",
       "      <th>548</th>\n",
       "      <td>——— 纪伯伦的名言 《沙与沫》</td>\n",
       "    </tr>\n",
       "    <tr>\n",
       "      <th>550</th>\n",
       "      <td>——— 乐小米经典语录 《岸芷蝶舞》</td>\n",
       "    </tr>\n",
       "    <tr>\n",
       "      <th>552</th>\n",
       "      <td>——— 俞敏洪经典语录</td>\n",
       "    </tr>\n",
       "    <tr>\n",
       "      <th>554</th>\n",
       "      <td>——— 俞敏洪经典语录</td>\n",
       "    </tr>\n",
       "    <tr>\n",
       "      <th>556</th>\n",
       "      <td>——— 九把刀经典语录</td>\n",
       "    </tr>\n",
       "    <tr>\n",
       "      <th>558</th>\n",
       "      <td>——— 莫言名言</td>\n",
       "    </tr>\n",
       "    <tr>\n",
       "      <th>560</th>\n",
       "      <td>——— 莫言名言</td>\n",
       "    </tr>\n",
       "    <tr>\n",
       "      <th>562</th>\n",
       "      <td>但如果我们只记挂着想拥有或欠缺的东西，而不去珍惜所拥有的，那根本改变不了问题!真正改变命运的...</td>\n",
       "    </tr>\n",
       "  </tbody>\n",
       "</table>\n",
       "</div>"
      ],
      "text/plain": [
       "                                                  text\n",
       "439                                        ———— 华特・贝基霍\n",
       "469                                        ——— 莎士比亚的名言\n",
       "529                                          ——— 《青春派》\n",
       "531                                           ——— 《心术》\n",
       "536                                        ——— 《新恋爱时代》\n",
       "546                                          ——— 歌德的名言\n",
       "548                                   ——— 纪伯伦的名言 《沙与沫》\n",
       "550                                 ——— 乐小米经典语录 《岸芷蝶舞》\n",
       "552                                        ——— 俞敏洪经典语录\n",
       "554                                        ——— 俞敏洪经典语录\n",
       "556                                        ——— 九把刀经典语录\n",
       "558                                           ——— 莫言名言\n",
       "560                                           ——— 莫言名言\n",
       "562  但如果我们只记挂着想拥有或欠缺的东西，而不去珍惜所拥有的，那根本改变不了问题!真正改变命运的..."
      ]
     },
     "execution_count": 7,
     "metadata": {},
     "output_type": "execute_result"
    }
   ],
   "source": [
    "df[df['text'].apply(lambda x:len(x.encode().split(b'\\xe3\\x80\\x81')[0]))>3]"
   ]
  },
  {
   "cell_type": "code",
   "execution_count": 28,
   "metadata": {},
   "outputs": [
    {
     "data": {
      "text/html": [
       "<div>\n",
       "<style scoped>\n",
       "    .dataframe tbody tr th:only-of-type {\n",
       "        vertical-align: middle;\n",
       "    }\n",
       "\n",
       "    .dataframe tbody tr th {\n",
       "        vertical-align: top;\n",
       "    }\n",
       "\n",
       "    .dataframe thead th {\n",
       "        text-align: right;\n",
       "    }\n",
       "</style>\n",
       "<table border=\"1\" class=\"dataframe\">\n",
       "  <thead>\n",
       "    <tr style=\"text-align: right;\">\n",
       "      <th></th>\n",
       "      <th>text</th>\n",
       "    </tr>\n",
       "  </thead>\n",
       "  <tbody>\n",
       "    <tr>\n",
       "      <th>557</th>\n",
       "      <td>109、行动是治愈恐惧的良药，而犹豫、拖延将不断滋养恐惧。</td>\n",
       "    </tr>\n",
       "    <tr>\n",
       "      <th>558</th>\n",
       "      <td>——— 莫言名言</td>\n",
       "    </tr>\n",
       "    <tr>\n",
       "      <th>559</th>\n",
       "      <td>110、积极的人在每一次忧患中都看到一个机会，而消极的人则在每个机会都看到某种忧患。莫找借口...</td>\n",
       "    </tr>\n",
       "    <tr>\n",
       "      <th>560</th>\n",
       "      <td>——— 莫言名言</td>\n",
       "    </tr>\n",
       "    <tr>\n",
       "      <th>561</th>\n",
       "      <td>111、人生最可悲的并非失去四肢，而是没有生存希望及目标!人们经常埋怨什么也做不来。</td>\n",
       "    </tr>\n",
       "    <tr>\n",
       "      <th>562</th>\n",
       "      <td>但如果我们只记挂着想拥有或欠缺的东西，而不去珍惜所拥有的，那根本改变不了问题!真正改变命运的...</td>\n",
       "    </tr>\n",
       "  </tbody>\n",
       "</table>\n",
       "</div>"
      ],
      "text/plain": [
       "                                                  text\n",
       "557                      109、行动是治愈恐惧的良药，而犹豫、拖延将不断滋养恐惧。\n",
       "558                                           ——— 莫言名言\n",
       "559  110、积极的人在每一次忧患中都看到一个机会，而消极的人则在每个机会都看到某种忧患。莫找借口...\n",
       "560                                           ——— 莫言名言\n",
       "561         111、人生最可悲的并非失去四肢，而是没有生存希望及目标!人们经常埋怨什么也做不来。\n",
       "562  但如果我们只记挂着想拥有或欠缺的东西，而不去珍惜所拥有的，那根本改变不了问题!真正改变命运的..."
      ]
     },
     "execution_count": 28,
     "metadata": {},
     "output_type": "execute_result"
    }
   ],
   "source": [
    "df[557:563]"
   ]
  },
  {
   "cell_type": "code",
   "execution_count": 25,
   "metadata": {},
   "outputs": [
    {
     "name": "stdout",
     "output_type": "stream",
     "text": [
      "1\n",
      "b'\\xe4\\xbd\\x86\\xe5\\xa6\\x82\\xe6\\x9e\\x9c\\xe6\\x88\\x91\\xe4\\xbb\\xac\\xe5\\x8f\\xaa\\xe8\\xae\\xb0\\xe6\\x8c\\x82\\xe7\\x9d\\x80\\xe6\\x83\\xb3\\xe6\\x8b\\xa5\\xe6\\x9c\\x89\\xe6\\x88\\x96\\xe6\\xac\\xa0\\xe7\\xbc\\xba\\xe7\\x9a\\x84\\xe4\\xb8\\x9c\\xe8\\xa5\\xbf\\xef\\xbc\\x8c\\xe8\\x80\\x8c\\xe4\\xb8\\x8d\\xe5\\x8e\\xbb\\xe7\\x8f\\x8d\\xe6\\x83\\x9c\\xe6\\x89\\x80\\xe6\\x8b\\xa5\\xe6\\x9c\\x89\\xe7\\x9a\\x84\\xef\\xbc\\x8c\\xe9\\x82\\xa3\\xe6\\xa0\\xb9\\xe6\\x9c\\xac\\xe6\\x94\\xb9\\xe5\\x8f\\x98\\xe4\\xb8\\x8d\\xe4\\xba\\x86\\xe9\\x97\\xae\\xe9\\xa2\\x98!\\xe7\\x9c\\x9f\\xe6\\xad\\xa3\\xe6\\x94\\xb9\\xe5\\x8f\\x98\\xe5\\x91\\xbd\\xe8\\xbf\\x90\\xe7\\x9a\\x84\\xef\\xbc\\x8c\\xe5\\xb9\\xb6\\xe4\\xb8\\x8d\\xe6\\x98\\xaf\\xe6\\x88\\x91\\xe4\\xbb\\xac\\xe7\\x9a\\x84\\xe6\\x9c\\xba\\xe9\\x81\\x87\\xef\\xbc\\x8c\\xe8\\x80\\x8c\\xe6\\x98\\xaf\\xe6\\x88\\x91\\xe4\\xbb\\xac\\xe7\\x9a\\x84\\xe6\\x80\\x81\\xe5\\xba\\xa6\\xe3\\x80\\x82'\n"
     ]
    }
   ],
   "source": [
    "print(len(df.iloc[562]['text'].encode().split(b'\\xe3\\x80\\x81')))\n",
    "print(df.iloc[562]['text'].encode())"
   ]
  },
  {
   "cell_type": "code",
   "execution_count": 23,
   "metadata": {},
   "outputs": [
    {
     "data": {
      "text/plain": [
       "b'1\\xe3\\x80\\x81\\xe7\\xab\\x8b\\xe5\\xbf\\x97\\xe6\\xac\\xb2\\xe5\\xa0\\x85\\xe4\\xb8\\x8d\\xe6\\xac\\xb2\\xe9\\x8a\\xb3\\xef\\xbc\\x8c\\xe6\\x88\\x90\\xe5\\x8a\\x9f\\xe5\\x9c\\xa8\\xe4\\xb9\\x85\\xe4\\xb8\\x8d\\xe5\\x9c\\xa8\\xe9\\x80\\x9f\\xe3\\x80\\x82\\xe2\\x80\\x94\\xe2\\x80\\x94\\xe5\\xbc\\xb5\\xe5\\xad\\x9d\\xe7\\xa5\\xa5'"
      ]
     },
     "execution_count": 23,
     "metadata": {},
     "output_type": "execute_result"
    }
   ],
   "source": [
    "t"
   ]
  },
  {
   "cell_type": "code",
   "execution_count": 36,
   "metadata": {},
   "outputs": [
    {
     "data": {
      "text/plain": [
       "[b'1',\n",
       " b'\\xe7\\xab\\x8b\\xe5\\xbf\\x97\\xe6\\xac\\xb2\\xe5\\xa0\\x85\\xe4\\xb8\\x8d\\xe6\\xac\\xb2\\xe9\\x8a\\xb3\\xef\\xbc\\x8c\\xe6\\x88\\x90\\xe5\\x8a\\x9f\\xe5\\x9c\\xa8\\xe4\\xb9\\x85\\xe4\\xb8\\x8d\\xe5\\x9c\\xa8\\xe9\\x80\\x9f\\xe3\\x80\\x82\\xe2\\x80\\x94\\xe2\\x80\\x94\\xe5\\xbc\\xb5\\xe5\\xad\\x9d\\xe7\\xa5\\xa5']"
      ]
     },
     "execution_count": 36,
     "metadata": {},
     "output_type": "execute_result"
    }
   ],
   "source": [
    "t.split(b'\\xe3\\x80\\x81')"
   ]
  }
 ],
 "metadata": {
  "kernelspec": {
   "display_name": "Python 3",
   "language": "python",
   "name": "python3"
  },
  "language_info": {
   "codemirror_mode": {
    "name": "ipython",
    "version": 3
   },
   "file_extension": ".py",
   "mimetype": "text/x-python",
   "name": "python",
   "nbconvert_exporter": "python",
   "pygments_lexer": "ipython3",
   "version": "3.6.5"
  }
 },
 "nbformat": 4,
 "nbformat_minor": 2
}
